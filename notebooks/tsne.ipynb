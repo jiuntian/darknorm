{
 "cells": [
  {
   "cell_type": "code",
   "execution_count": 1,
   "id": "0127544b-e30d-41d0-8fd9-e64110ef16fe",
   "metadata": {},
   "outputs": [],
   "source": [
    "import sys\n",
    "dataset_folder = \"../datasets\"\n",
    "sys.path.insert(0, \"../\")"
   ]
  },
  {
   "cell_type": "code",
   "execution_count": 2,
   "id": "1323d1c2-ae64-491b-9be8-10a9b6670765",
   "metadata": {},
   "outputs": [],
   "source": [
    "from collections import defaultdict\n",
    "import os\n",
    "import random\n",
    "import time\n",
    "\n",
    "import matplotlib.pyplot as plt\n",
    "import numpy as np\n",
    "from sklearn.manifold import TSNE\n",
    "import torch\n",
    "from tqdm import tqdm\n",
    "\n",
    "import datasets\n",
    "import models\n",
    "import video_transforms\n",
    "import darknorm\n",
    "from loss import CELoss"
   ]
  },
  {
   "cell_type": "code",
   "execution_count": 128,
   "id": "089b9bfc-2e30-49b3-8ba1-e764eeded3f3",
   "metadata": {},
   "outputs": [],
   "source": [
    "device = torch.device(0)\n",
    "# using gpu 0\n",
    "width = 170\n",
    "height = 128\n",
    "input_size = 112\n",
    "length = 64\n",
    "\n",
    "ckpt_location = 'checkpoints/gamma_ce_EE6222_DarkNormr18_split1_triv_norm_reprod_1234'\n",
    "dark_std = True\n",
    "\n",
    "# ckpt_location = 'checkpoints/gamma_ce_EE6222_DarkNormr18_split1_base'\n",
    "# dark_std = False\n",
    "\n",
    "seed = 1234 # please check seed before continue\n",
    "assert ('norm' in ckpt_location) == dark_std, 'mismatched dark_std'"
   ]
  },
  {
   "cell_type": "code",
   "execution_count": 129,
   "id": "a89f0fb2-5e96-486f-ae10-5cf70cfe877a",
   "metadata": {},
   "outputs": [],
   "source": [
    "def buildModel(model_path, num_categories, device, multiGPUTrain=True, multiGPUTest=False):\n",
    "    model = models.__dict__['DarkNorm'](num_classes=num_categories, length=length)\n",
    "    params = torch.load(model_path)\n",
    "\n",
    "    if multiGPUTest:\n",
    "        model = torch.nn.DataParallel(model)\n",
    "        new_dict = {\"module.\" + k: v for k, v in params['state_dict'].items()}\n",
    "        model.load_state_dict(new_dict)\n",
    "\n",
    "    elif multiGPUTrain:\n",
    "        new_dict = {k[7:]: v for k, v in params['state_dict'].items()}\n",
    "        model_dict = model.state_dict()\n",
    "        model_dict.update(new_dict)\n",
    "        model.load_state_dict(model_dict)\n",
    "    else:\n",
    "        model.load_state_dict(params['state_dict'])\n",
    "    model.to(device)\n",
    "    model.eval()\n",
    "    return model"
   ]
  },
  {
   "cell_type": "code",
   "execution_count": 130,
   "id": "7b4a29d1-9045-4b94-958a-1390aac4b233",
   "metadata": {},
   "outputs": [],
   "source": [
    "model_path = os.path.join('../', ckpt_location, 'model_best.pth.tar')\n",
    "assert os.path.exists(model_path), 'model path not exist'"
   ]
  },
  {
   "cell_type": "code",
   "execution_count": 131,
   "id": "66d3aa97-286c-4777-8924-7c0f5f39b979",
   "metadata": {},
   "outputs": [],
   "source": [
    "data_dir = os.path.join(dataset_folder, 'EE6222_frames')\n",
    "extension = 'img_{0:05d}.jpg'\n",
    "val_fileName = \"val_split%d.txt\" % 1"
   ]
  },
  {
   "cell_type": "code",
   "execution_count": 132,
   "id": "faa66348-e9c4-498b-a8c2-238d91e0b369",
   "metadata": {},
   "outputs": [],
   "source": [
    "val_file = os.path.join(dataset_folder, 'settings', 'EE6222', val_fileName)"
   ]
  },
  {
   "cell_type": "code",
   "execution_count": 133,
   "id": "7de25edf-47a7-4cfb-94c9-ea0d051ea405",
   "metadata": {},
   "outputs": [],
   "source": [
    "clip_mean_light = [0.485, 0.456, 0.406] * 1* length\n",
    "clip_std_light = [0.229, 0.224, 0.225] * 1 * length\n",
    "clip_mean = [0.0702773, 0.06571121, 0.06437492] * 1 * length\n",
    "clip_std = [0.08475896, 0.08116068, 0.07479476] * 1 * length\n",
    "if dark_std:\n",
    "    normalize = video_transforms.Normalize(mean=clip_mean_light,\n",
    "                                           std=clip_std_light)\n",
    "else:\n",
    "    normalize = video_transforms.Normalize(mean=clip_mean,\n",
    "                                                   std=clip_std)\n",
    "val_transform = video_transforms.Compose([\n",
    "        video_transforms.CenterCrop((input_size)),\n",
    "        video_transforms.ToTensor(),\n",
    "        normalize,\n",
    "    ])\n",
    "\n",
    "criterion = CELoss().to(device)"
   ]
  },
  {
   "cell_type": "code",
   "execution_count": 134,
   "id": "190e2c68-e6e7-472a-b690-4aa65c1e2a40",
   "metadata": {},
   "outputs": [],
   "source": [
    "val_dataset = datasets.EE6222(root=data_dir,\n",
    "                              modality=\"rgb\",\n",
    "                              source=val_file,\n",
    "                              phase=\"val\",\n",
    "                              is_color=True,\n",
    "                              new_length=length,\n",
    "                              new_width=width,\n",
    "                              new_height=height,\n",
    "                              video_transform=val_transform,\n",
    "                              num_segments=1,\n",
    "                              gamma=1.8,\n",
    "                              method='gamma',\n",
    "                              light=False)"
   ]
  },
  {
   "cell_type": "code",
   "execution_count": 135,
   "id": "5f6e8ba1-c4e3-426d-8692-b74eca7c38f9",
   "metadata": {},
   "outputs": [],
   "source": [
    "def seed_worker(_):\n",
    "    worker_seed = torch.initial_seed() % 2 ** 32\n",
    "    np.random.seed(worker_seed)\n",
    "    random.seed(worker_seed)\n",
    "g = torch.Generator()\n",
    "g.manual_seed(seed)\n",
    "\n",
    "val_loader = torch.utils.data.DataLoader(\n",
    "        val_dataset,\n",
    "        batch_size=16, shuffle=False,\n",
    "        num_workers=8, pin_memory=True,\n",
    "        worker_init_fn=seed_worker,\n",
    "        generator=g\n",
    ")"
   ]
  },
  {
   "cell_type": "code",
   "execution_count": 136,
   "id": "7e35c4fe-676d-42db-b585-bbd6420aa221",
   "metadata": {},
   "outputs": [
    {
     "name": "stdout",
     "output_type": "stream",
     "text": [
      "Action recognition model is loaded in 1.1735 seconds.\n"
     ]
    }
   ],
   "source": [
    "model_start_time = time.time()\n",
    "spatial_net = buildModel(model_path, 10, device)\n",
    "model_end_time = time.time()\n",
    "model_time = model_end_time - model_start_time\n",
    "print(\"Action recognition model is loaded in %4.4f seconds.\" % (model_time))"
   ]
  },
  {
   "cell_type": "code",
   "execution_count": 137,
   "id": "9e6f8692-1010-4ea9-b8e1-a394ced3bb74",
   "metadata": {},
   "outputs": [],
   "source": [
    "# del features"
   ]
  },
  {
   "cell_type": "code",
   "execution_count": 138,
   "id": "d0191254-1587-42bf-b0fc-27852423a0ba",
   "metadata": {},
   "outputs": [],
   "source": [
    "features = defaultdict(list)\n",
    "all_targets = list()\n",
    "def getFeatures(name):\n",
    "    # the hook signature\n",
    "    def hook(model, input, output):\n",
    "        # print(f\"o: {output.shape}\")\n",
    "        f = output.detach().flatten(1).cpu()\n",
    "        # print(f\"f : {f.shape}\")\n",
    "        features[name].append(f)\n",
    "    return hook\n",
    "h = spatial_net.avgpool.register_forward_hook(getFeatures('avgpool'))"
   ]
  },
  {
   "cell_type": "code",
   "execution_count": 139,
   "id": "e2f43ee8-0ebd-4c59-9dcc-32683aa55a16",
   "metadata": {},
   "outputs": [
    {
     "name": "stderr",
     "output_type": "stream",
     "text": [
      "100%|█████████████████████████████████████████████████████████████████████████████████████████████████████████████████████████████████████████████████| 20/20 [00:23<00:00,  1.20s/it]\n"
     ]
    }
   ],
   "source": [
    "assert len(features['avgpool']) == 0\n",
    "with torch.no_grad():\n",
    "    for i, _input in enumerate(tqdm(val_loader)):\n",
    "        (inputs, targets) = _input\n",
    "        inputs = inputs.view(-1, length, 3, input_size,\n",
    "                             input_size).transpose(1, 2)\n",
    "        inputs = inputs.to(device)\n",
    "        output = spatial_net(inputs)\n",
    "        all_targets.append(targets)\n",
    "h.remove()"
   ]
  },
  {
   "cell_type": "code",
   "execution_count": 140,
   "id": "89b4421b-e86f-43a5-8513-e56504dc7106",
   "metadata": {},
   "outputs": [],
   "source": [
    "features['avgpool'] = torch.concat(features['avgpool'])"
   ]
  },
  {
   "cell_type": "code",
   "execution_count": 141,
   "id": "c56568d7-7eb1-4b9b-a2f3-cf407e0428bf",
   "metadata": {},
   "outputs": [],
   "source": [
    "features['label'] = torch.concat(all_targets)"
   ]
  },
  {
   "cell_type": "code",
   "execution_count": 142,
   "id": "dd46ef36-2f1d-4484-9dbf-2bf65319184b",
   "metadata": {},
   "outputs": [],
   "source": [
    "feature_path = os.path.join('../', ckpt_location, 'val_features.pth')\n",
    "torch.save(features, feature_path)"
   ]
  },
  {
   "cell_type": "code",
   "execution_count": null,
   "id": "1e241223-f9a8-41ca-932a-a89bf9ca7099",
   "metadata": {},
   "outputs": [],
   "source": []
  },
  {
   "cell_type": "code",
   "execution_count": 143,
   "id": "d3aaea35-235b-4558-9271-6e025bdb3aef",
   "metadata": {},
   "outputs": [
    {
     "name": "stderr",
     "output_type": "stream",
     "text": [
      "/raid2/jiuntian/cisip-FIRe/hashing/lib/python3.8/site-packages/sklearn/manifold/_t_sne.py:800: FutureWarning: The default initialization in TSNE will change from 'random' to 'pca' in 1.2.\n",
      "  warnings.warn(\n"
     ]
    }
   ],
   "source": [
    "tsne_features = TSNE(n_components=2, perplexity=32,\n",
    "                     n_iter=2000, method='exact',\n",
    "                     learning_rate=50, random_state=seed).fit_transform(features['avgpool'])"
   ]
  },
  {
   "cell_type": "code",
   "execution_count": 144,
   "id": "1ffd0150-64df-4b1a-a9ae-04837a7d61fb",
   "metadata": {},
   "outputs": [],
   "source": [
    "def scale_to_01_range(x):\n",
    "    # compute the distribution range\n",
    "    value_range = (np.max(x) - np.min(x))\n",
    "    # move the distribution so that it starts from zero\n",
    "    # by extracting the minimal value from all its values\n",
    "    starts_from_zero = x - np.min(x)\n",
    "    # make the distribution fit [0; 1] by dividing by its range\n",
    "    return starts_from_zero / value_range\n",
    "# extract x and y coordinates representing the positions of the images on T-SNE plot\n",
    "tx = tsne_features[:, 0]\n",
    "ty = tsne_features[:, 1]\n",
    " \n",
    "tx = scale_to_01_range(tx)\n",
    "ty = scale_to_01_range(ty)\n"
   ]
  },
  {
   "cell_type": "code",
   "execution_count": 145,
   "id": "68b275c9-5794-4c9f-9b35-0353147f8e49",
   "metadata": {},
   "outputs": [
    {
     "name": "stderr",
     "output_type": "stream",
     "text": [
      "WARNING:matplotlib.legend:No artists with labels found to put in legend.  Note that artists whose label start with an underscore are ignored when legend() is called with no argument.\n"
     ]
    },
    {
     "name": "stdout",
     "output_type": "stream",
     "text": [
      "saved as gamma_ce_EE6222_DarkNormr18_split1_triv_norm_reprod_1234.pdf\n"
     ]
    },
    {
     "data": {
      "image/png": "[encoded data removed]",
      "text/plain": [
       "<Figure size 640x480 with 1 Axes>"
      ]
     },
     "metadata": {},
     "output_type": "display_data"
    }
   ],
   "source": [
    "labels = features['label']\n",
    "# initialize a matplotlib plot\n",
    "fig = plt.figure()\n",
    "ax = fig.add_subplot(111)\n",
    "\n",
    "# for every class, we'll add a scatter plot separately\n",
    "for label in range(10):\n",
    "    # find the samples of the current class in the data\n",
    "    indices = [i for i, l in enumerate(labels) if l == label]\n",
    " \n",
    "    # extract the coordinates of the points of this class only\n",
    "    current_tx = np.take(tx, indices)\n",
    "    current_ty = np.take(ty, indices)\n",
    " \n",
    "    # convert the class color to matplotlib format\n",
    "    # color = np.array(colors_per_class[label], dtype=np.float) / 255\n",
    " \n",
    "    # add a scatter plot with the corresponding color and label\n",
    "    ax.scatter(current_tx, current_ty)\n",
    " \n",
    " # build a legend using the labels we set previously\n",
    "ax.legend(loc='best')\n",
    "# finally, show the plot\n",
    "# plt.axis('off')\n",
    "pdf_file_name = ckpt_location.split('/')[1] + \".pdf\"\n",
    "print(f\"saved as {pdf_file_name}\")\n",
    "plt.savefig(pdf_file_name, bbox_inches='tight')\n",
    "plt.show()"
   ]
  },
  {
   "cell_type": "code",
   "execution_count": null,
   "id": "344ab59e-670d-4acf-bb5c-447918f1965e",
   "metadata": {},
   "outputs": [],
   "source": []
  }
 ],
 "metadata": {
  "kernelspec": {
   "display_name": "Python 3 (ipykernel)",
   "language": "python",
   "name": "python3"
  },
  "language_info": {
   "codemirror_mode": {
    "name": "ipython",
    "version": 3
   },
   "file_extension": ".py",
   "mimetype": "text/x-python",
   "name": "python",
   "nbconvert_exporter": "python",
   "pygments_lexer": "ipython3",
   "version": "3.8.13"
  }
 },
 "nbformat": 4,
 "nbformat_minor": 5
}
