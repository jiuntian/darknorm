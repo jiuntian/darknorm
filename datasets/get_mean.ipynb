{
 "cells": [
  {
   "cell_type": "code",
   "execution_count": 11,
   "id": "0d8a5dcc-a918-4a5b-875d-458519326cb8",
   "metadata": {},
   "outputs": [],
   "source": [
    "import PIL.Image\n",
    "import os\n",
    "import numpy as np"
   ]
  },
  {
   "cell_type": "code",
   "execution_count": 5,
   "id": "c42dccca-55ab-433a-babe-158b3b0d6e3a",
   "metadata": {},
   "outputs": [],
   "source": [
    "imgs_dir = 'EE6222_frames'\n",
    "dirs = ['Pick', 'Turn', 'Stand', 'Pour', 'Walk', 'Drink', 'Sit', 'Jump', 'Push', 'Run']"
   ]
  },
  {
   "cell_type": "code",
   "execution_count": 20,
   "id": "cad4ff95-65a5-4aa7-b1a8-0e7097e1f0bd",
   "metadata": {},
   "outputs": [],
   "source": [
    "import math\n",
    "class RunningStats:\n",
    "\n",
    "    def __init__(self):\n",
    "        self.n = 0\n",
    "        self.old_m = 0\n",
    "        self.new_m = 0\n",
    "        self.old_s = 0\n",
    "        self.new_s = 0\n",
    "\n",
    "    def clear(self):\n",
    "        self.n = 0\n",
    "\n",
    "    def push(self, x):\n",
    "        self.n += 1\n",
    "\n",
    "        if self.n == 1:\n",
    "            self.old_m = self.new_m = x\n",
    "            self.old_s = 0\n",
    "        else:\n",
    "            self.new_m = self.old_m + (x - self.old_m) / self.n\n",
    "            self.new_s = self.old_s + (x - self.old_m) * (x - self.new_m)\n",
    "\n",
    "            self.old_m = self.new_m\n",
    "            self.old_s = self.new_s\n",
    "\n",
    "    def mean(self):\n",
    "        return self.new_m if self.n else 0.0\n",
    "\n",
    "    def variance(self):\n",
    "        return self.new_s / (self.n - 1) if self.n > 1 else 0.0\n",
    "\n",
    "    def standard_deviation(self):\n",
    "        return math.sqrt(self.variance())"
   ]
  },
  {
   "cell_type": "code",
   "execution_count": 64,
   "id": "83a75466-0607-485e-a3fd-7ce5fee91a27",
   "metadata": {},
   "outputs": [],
   "source": [
    "from tqdm.notebook import tqdm"
   ]
  },
  {
   "cell_type": "code",
   "execution_count": 66,
   "id": "a5a3af74-16bb-4ca9-b0e9-829016de3c22",
   "metadata": {},
   "outputs": [
    {
     "data": {
      "application/vnd.jupyter.widget-view+json": {
       "model_id": "173220ff9d0b405d84f7d380cdde2efc",
       "version_major": 2,
       "version_minor": 0
      },
      "text/plain": [
       "  0%|          | 0/10 [00:00<?, ?it/s]"
      ]
     },
     "metadata": {},
     "output_type": "display_data"
    },
    {
     "data": {
      "application/vnd.jupyter.widget-view+json": {
       "model_id": "62d68fd0bc4043089c11391946753f7f",
       "version_major": 2,
       "version_minor": 0
      },
      "text/plain": [
       "  0%|          | 0/61 [00:00<?, ?it/s]"
      ]
     },
     "metadata": {},
     "output_type": "display_data"
    },
    {
     "name": "stdout",
     "output_type": "stream",
     "text": [
      "Class Pick Mean=[0.07336631 0.06840362 0.06623222] Std=[0.06415211 0.06352223 0.05751301]\n"
     ]
    },
    {
     "data": {
      "application/vnd.jupyter.widget-view+json": {
       "model_id": "87797a133c724db39d4e8acedfc396d1",
       "version_major": 2,
       "version_minor": 0
      },
      "text/plain": [
       "  0%|          | 0/59 [00:00<?, ?it/s]"
      ]
     },
     "metadata": {},
     "output_type": "display_data"
    },
    {
     "name": "stdout",
     "output_type": "stream",
     "text": [
      "Class Turn Mean=[0.07111563 0.0668264  0.06349112] Std=[0.06088984 0.05964914 0.05194326]\n"
     ]
    },
    {
     "data": {
      "application/vnd.jupyter.widget-view+json": {
       "model_id": "315ad460a60e442c9c6345a6191700ee",
       "version_major": 2,
       "version_minor": 0
      },
      "text/plain": [
       "  0%|          | 0/45 [00:00<?, ?it/s]"
      ]
     },
     "metadata": {},
     "output_type": "display_data"
    },
    {
     "name": "stdout",
     "output_type": "stream",
     "text": [
      "Class Stand Mean=[0.07291165 0.06882687 0.06522454] Std=[0.06604741 0.06380604 0.05512173]\n"
     ]
    },
    {
     "data": {
      "application/vnd.jupyter.widget-view+json": {
       "model_id": "5c1cf83010684dcdb27c09852b6e5796",
       "version_major": 2,
       "version_minor": 0
      },
      "text/plain": [
       "  0%|          | 0/89 [00:00<?, ?it/s]"
      ]
     },
     "metadata": {},
     "output_type": "display_data"
    },
    {
     "name": "stdout",
     "output_type": "stream",
     "text": [
      "Class Pour Mean=[0.06129758 0.05697548 0.05529197] Std=[0.06043863 0.05804459 0.0501713 ]\n"
     ]
    },
    {
     "data": {
      "application/vnd.jupyter.widget-view+json": {
       "model_id": "d9b373c3b2fa4d0baeec463f732a9a4d",
       "version_major": 2,
       "version_minor": 0
      },
      "text/plain": [
       "  0%|          | 0/106 [00:00<?, ?it/s]"
      ]
     },
     "metadata": {},
     "output_type": "display_data"
    },
    {
     "name": "stdout",
     "output_type": "stream",
     "text": [
      "Class Walk Mean=[0.06860959 0.06384048 0.06188806] Std=[0.07647645 0.07238131 0.06529024]\n"
     ]
    },
    {
     "data": {
      "application/vnd.jupyter.widget-view+json": {
       "model_id": "e98e4e3569f44caeac6432eac079bbb8",
       "version_major": 2,
       "version_minor": 0
      },
      "text/plain": [
       "  0%|          | 0/93 [00:00<?, ?it/s]"
      ]
     },
     "metadata": {},
     "output_type": "display_data"
    },
    {
     "name": "stdout",
     "output_type": "stream",
     "text": [
      "Class Drink Mean=[0.0691235  0.06403787 0.06269831] Std=[0.08085037 0.0764118  0.07008802]\n"
     ]
    },
    {
     "data": {
      "application/vnd.jupyter.widget-view+json": {
       "model_id": "512ac522d05b482c9c3aec07008cedd1",
       "version_major": 2,
       "version_minor": 0
      },
      "text/plain": [
       "  0%|          | 0/51 [00:00<?, ?it/s]"
      ]
     },
     "metadata": {},
     "output_type": "display_data"
    },
    {
     "name": "stdout",
     "output_type": "stream",
     "text": [
      "Class Sit Mean=[0.06660046 0.06190603 0.06075144] Std=[0.07780323 0.07353399 0.06759821]\n"
     ]
    },
    {
     "data": {
      "application/vnd.jupyter.widget-view+json": {
       "model_id": "07c6c28e23b24a48a7a29d64947abb5c",
       "version_major": 2,
       "version_minor": 0
      },
      "text/plain": [
       "  0%|          | 0/94 [00:00<?, ?it/s]"
      ]
     },
     "metadata": {},
     "output_type": "display_data"
    },
    {
     "name": "stdout",
     "output_type": "stream",
     "text": [
      "Class Jump Mean=[0.06717041 0.06252519 0.06150974] Std=[0.07982741 0.07559102 0.06958507]\n"
     ]
    },
    {
     "data": {
      "application/vnd.jupyter.widget-view+json": {
       "model_id": "58557a6cfcb84dcda3a349a1984b2ba1",
       "version_major": 2,
       "version_minor": 0
      },
      "text/plain": [
       "  0%|          | 0/97 [00:00<?, ?it/s]"
      ]
     },
     "metadata": {},
     "output_type": "display_data"
    },
    {
     "name": "stdout",
     "output_type": "stream",
     "text": [
      "Class Push Mean=[0.06909937 0.06464864 0.06335806] Std=[0.08236151 0.07882398 0.07253347]\n"
     ]
    },
    {
     "data": {
      "application/vnd.jupyter.widget-view+json": {
       "model_id": "d6b6b883cd444e19bb7b6606959f1212",
       "version_major": 2,
       "version_minor": 0
      },
      "text/plain": [
       "  0%|          | 0/55 [00:00<?, ?it/s]"
      ]
     },
     "metadata": {},
     "output_type": "display_data"
    },
    {
     "name": "stdout",
     "output_type": "stream",
     "text": [
      "Class Run Mean=[0.0702773  0.06571121 0.06437492] Std=[0.08475896 0.08116068 0.07479476]\n"
     ]
    }
   ],
   "source": [
    "rs = [RunningStats(), RunningStats(), RunningStats()]\n",
    "v = [np.vectorize(rs[0].push), np.vectorize(rs[1].push), np.vectorize(rs[2].push)]\n",
    "psum    = np.array([0.0, 0.0, 0.0])\n",
    "psum_sq = np.array([0.0, 0.0, 0.0])\n",
    "count = 0\n",
    "for d in tqdm(dirs):\n",
    "    curr_dir = os.path.join(imgs_dir, d)\n",
    "    for vid_dir in tqdm(os.listdir(curr_dir)):\n",
    "        current_vid_dir = os.path.join(curr_dir, vid_dir)\n",
    "        for im in os.listdir(current_vid_dir):\n",
    "            img = np.asarray(PIL.Image.open(os.path.join(current_vid_dir, im))) / 255.\n",
    "            count += img.shape[0] * img.shape[1]\n",
    "            psum += img.sum(0).sum(0)\n",
    "            psum_sq += (img ** 2).sum(0).sum(0)\n",
    "    # mean and std\n",
    "    total_mean = psum / count\n",
    "    total_var  = (psum_sq / count) - (total_mean ** 2)\n",
    "    total_std  = np.sqrt(total_var)\n",
    "    print(f'Class {d} Mean={total_mean} Std={total_std}')"
   ]
  },
  {
   "cell_type": "code",
   "execution_count": null,
   "id": "f5d75b2c-0930-47ad-bee7-1de20f736bf2",
   "metadata": {},
   "outputs": [],
   "source": [
    "Mean=[0.0702773, 0.06571121, 0.06437492] \n",
    "Std=[0.08475896, 0.08116068, 0.07479476]"
   ]
  }
 ],
 "metadata": {
  "kernelspec": {
   "display_name": "Python 3 (ipykernel)",
   "language": "python",
   "name": "python3"
  },
  "language_info": {
   "codemirror_mode": {
    "name": "ipython",
    "version": 3
   },
   "file_extension": ".py",
   "mimetype": "text/x-python",
   "name": "python",
   "nbconvert_exporter": "python",
   "pygments_lexer": "ipython3",
   "version": "3.8.13"
  }
 },
 "nbformat": 4,
 "nbformat_minor": 5
}
